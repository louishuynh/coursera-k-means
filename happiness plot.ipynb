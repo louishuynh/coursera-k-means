{
 "cells": [
  {
   "cell_type": "code",
   "execution_count": 60,
   "metadata": {},
   "outputs": [],
   "source": [
    "import re\n",
    "import pandas as pd\n",
    "\n",
    "import matplotlib.pyplot as plt\n",
    "import seaborn as sns"
   ]
  },
  {
   "cell_type": "code",
   "execution_count": 32,
   "metadata": {},
   "outputs": [
    {
     "data": {
      "text/plain": [
       "(111, 11)"
      ]
     },
     "execution_count": 32,
     "metadata": {},
     "output_type": "execute_result"
    }
   ],
   "source": [
    "csv_url = r'https://d3c33hcgiwev3.cloudfront.net/em-9EhjTEemU7w7-EFnPcg_7aa34fc018d311e980c2cb6467517117_happyscore_income.csv?Expires=1587427200&Signature=ZNd7ADwo144zTY3jASrkgGTmBrnh~HXPUOSHS0KRl~I2cKGUBbiU~65olLDZq8coV5pAG169cAJiTEyRna4Tch1V-AEyls04mDL4VFULWzSCEvN-EowesRHMAGT9jmipugsYPglBtVeOCmZ-xfHLpdU9pscJiEqt0z7Nlq9ovc0_&Key-Pair-Id=APKAJLTNE6QMUY6HBC5A'\n",
    "df = pd.read_csv(csv_url)\n",
    "df.shape"
   ]
  },
  {
   "cell_type": "code",
   "execution_count": 24,
   "metadata": {},
   "outputs": [
    {
     "data": {
      "text/html": [
       "<div>\n",
       "<style scoped>\n",
       "    .dataframe tbody tr th:only-of-type {\n",
       "        vertical-align: middle;\n",
       "    }\n",
       "\n",
       "    .dataframe tbody tr th {\n",
       "        vertical-align: top;\n",
       "    }\n",
       "\n",
       "    .dataframe thead th {\n",
       "        text-align: right;\n",
       "    }\n",
       "</style>\n",
       "<table border=\"1\" class=\"dataframe\">\n",
       "  <thead>\n",
       "    <tr style=\"text-align: right;\">\n",
       "      <th></th>\n",
       "      <th>country</th>\n",
       "      <th>adjusted_satisfaction</th>\n",
       "      <th>avg_satisfaction</th>\n",
       "      <th>std_satisfaction</th>\n",
       "      <th>avg_income</th>\n",
       "      <th>median_income</th>\n",
       "      <th>income_inequality</th>\n",
       "      <th>region</th>\n",
       "      <th>happyScore</th>\n",
       "      <th>GDP</th>\n",
       "      <th>country.1</th>\n",
       "    </tr>\n",
       "  </thead>\n",
       "  <tbody>\n",
       "    <tr>\n",
       "      <th>0</th>\n",
       "      <td>Mexico</td>\n",
       "      <td>69.0</td>\n",
       "      <td>8.3</td>\n",
       "      <td>2.02</td>\n",
       "      <td>4148.000000</td>\n",
       "      <td>2646.973333</td>\n",
       "      <td>48.974444</td>\n",
       "      <td>'Latin America and Caribbean'</td>\n",
       "      <td>7.187</td>\n",
       "      <td>1.02054</td>\n",
       "      <td>Mexico</td>\n",
       "    </tr>\n",
       "    <tr>\n",
       "      <th>1</th>\n",
       "      <td>Colombia</td>\n",
       "      <td>65.0</td>\n",
       "      <td>7.9</td>\n",
       "      <td>2.09</td>\n",
       "      <td>4618.062857</td>\n",
       "      <td>2618.674286</td>\n",
       "      <td>54.815714</td>\n",
       "      <td>'Latin America and Caribbean'</td>\n",
       "      <td>6.477</td>\n",
       "      <td>0.91861</td>\n",
       "      <td>Colombia</td>\n",
       "    </tr>\n",
       "    <tr>\n",
       "      <th>2</th>\n",
       "      <td>Thailand</td>\n",
       "      <td>58.0</td>\n",
       "      <td>6.8</td>\n",
       "      <td>1.93</td>\n",
       "      <td>4792.500000</td>\n",
       "      <td>3523.545000</td>\n",
       "      <td>39.448750</td>\n",
       "      <td>'Southeastern Asia'</td>\n",
       "      <td>6.455</td>\n",
       "      <td>0.96690</td>\n",
       "      <td>Thailand</td>\n",
       "    </tr>\n",
       "    <tr>\n",
       "      <th>3</th>\n",
       "      <td>El Salvador</td>\n",
       "      <td>56.0</td>\n",
       "      <td>6.7</td>\n",
       "      <td>2.03</td>\n",
       "      <td>3410.893333</td>\n",
       "      <td>2366.280000</td>\n",
       "      <td>44.823333</td>\n",
       "      <td>'Latin America and Caribbean'</td>\n",
       "      <td>6.130</td>\n",
       "      <td>0.76454</td>\n",
       "      <td>El Salvador</td>\n",
       "    </tr>\n",
       "    <tr>\n",
       "      <th>4</th>\n",
       "      <td>Ecuador</td>\n",
       "      <td>57.0</td>\n",
       "      <td>6.8</td>\n",
       "      <td>1.99</td>\n",
       "      <td>3835.653333</td>\n",
       "      <td>2435.266667</td>\n",
       "      <td>50.095556</td>\n",
       "      <td>'Latin America and Caribbean'</td>\n",
       "      <td>5.975</td>\n",
       "      <td>0.86402</td>\n",
       "      <td>Ecuador</td>\n",
       "    </tr>\n",
       "    <tr>\n",
       "      <th>5</th>\n",
       "      <td>Bolivia</td>\n",
       "      <td>53.0</td>\n",
       "      <td>6.3</td>\n",
       "      <td>1.90</td>\n",
       "      <td>3985.710000</td>\n",
       "      <td>2584.470000</td>\n",
       "      <td>51.610000</td>\n",
       "      <td>'Latin America and Caribbean'</td>\n",
       "      <td>5.890</td>\n",
       "      <td>0.68133</td>\n",
       "      <td>Bolivia</td>\n",
       "    </tr>\n",
       "    <tr>\n",
       "      <th>6</th>\n",
       "      <td>Moldova</td>\n",
       "      <td>42.0</td>\n",
       "      <td>5.3</td>\n",
       "      <td>2.25</td>\n",
       "      <td>3077.280000</td>\n",
       "      <td>2547.413333</td>\n",
       "      <td>32.674444</td>\n",
       "      <td>'Central and Eastern Europe'</td>\n",
       "      <td>5.889</td>\n",
       "      <td>0.59448</td>\n",
       "      <td>Moldova</td>\n",
       "    </tr>\n",
       "    <tr>\n",
       "      <th>7</th>\n",
       "      <td>Paraguay</td>\n",
       "      <td>56.0</td>\n",
       "      <td>6.8</td>\n",
       "      <td>2.04</td>\n",
       "      <td>4938.520000</td>\n",
       "      <td>3136.040000</td>\n",
       "      <td>50.966667</td>\n",
       "      <td>'Latin America and Caribbean'</td>\n",
       "      <td>5.878</td>\n",
       "      <td>0.75985</td>\n",
       "      <td>Paraguay</td>\n",
       "    </tr>\n",
       "    <tr>\n",
       "      <th>8</th>\n",
       "      <td>Kazakhstan</td>\n",
       "      <td>54.0</td>\n",
       "      <td>6.5</td>\n",
       "      <td>2.12</td>\n",
       "      <td>3555.093333</td>\n",
       "      <td>3025.480000</td>\n",
       "      <td>28.422222</td>\n",
       "      <td>'Central and Eastern Europe'</td>\n",
       "      <td>5.855</td>\n",
       "      <td>1.12254</td>\n",
       "      <td>Kazakhstan</td>\n",
       "    </tr>\n",
       "    <tr>\n",
       "      <th>9</th>\n",
       "      <td>Nicaragua</td>\n",
       "      <td>55.0</td>\n",
       "      <td>7.1</td>\n",
       "      <td>2.50</td>\n",
       "      <td>2419.200000</td>\n",
       "      <td>1632.880000</td>\n",
       "      <td>45.796667</td>\n",
       "      <td>'Latin America and Caribbean'</td>\n",
       "      <td>5.828</td>\n",
       "      <td>0.59325</td>\n",
       "      <td>Nicaragua</td>\n",
       "    </tr>\n",
       "  </tbody>\n",
       "</table>\n",
       "</div>"
      ],
      "text/plain": [
       "       country  adjusted_satisfaction  avg_satisfaction  std_satisfaction  \\\n",
       "0       Mexico                   69.0               8.3              2.02   \n",
       "1     Colombia                   65.0               7.9              2.09   \n",
       "2     Thailand                   58.0               6.8              1.93   \n",
       "3  El Salvador                   56.0               6.7              2.03   \n",
       "4      Ecuador                   57.0               6.8              1.99   \n",
       "5      Bolivia                   53.0               6.3              1.90   \n",
       "6      Moldova                   42.0               5.3              2.25   \n",
       "7     Paraguay                   56.0               6.8              2.04   \n",
       "8   Kazakhstan                   54.0               6.5              2.12   \n",
       "9    Nicaragua                   55.0               7.1              2.50   \n",
       "\n",
       "    avg_income  median_income  income_inequality  \\\n",
       "0  4148.000000    2646.973333          48.974444   \n",
       "1  4618.062857    2618.674286          54.815714   \n",
       "2  4792.500000    3523.545000          39.448750   \n",
       "3  3410.893333    2366.280000          44.823333   \n",
       "4  3835.653333    2435.266667          50.095556   \n",
       "5  3985.710000    2584.470000          51.610000   \n",
       "6  3077.280000    2547.413333          32.674444   \n",
       "7  4938.520000    3136.040000          50.966667   \n",
       "8  3555.093333    3025.480000          28.422222   \n",
       "9  2419.200000    1632.880000          45.796667   \n",
       "\n",
       "                          region  happyScore      GDP    country.1  \n",
       "0  'Latin America and Caribbean'       7.187  1.02054       Mexico  \n",
       "1  'Latin America and Caribbean'       6.477  0.91861     Colombia  \n",
       "2            'Southeastern Asia'       6.455  0.96690     Thailand  \n",
       "3  'Latin America and Caribbean'       6.130  0.76454  El Salvador  \n",
       "4  'Latin America and Caribbean'       5.975  0.86402      Ecuador  \n",
       "5  'Latin America and Caribbean'       5.890  0.68133      Bolivia  \n",
       "6   'Central and Eastern Europe'       5.889  0.59448      Moldova  \n",
       "7  'Latin America and Caribbean'       5.878  0.75985     Paraguay  \n",
       "8   'Central and Eastern Europe'       5.855  1.12254   Kazakhstan  \n",
       "9  'Latin America and Caribbean'       5.828  0.59325    Nicaragua  "
      ]
     },
     "execution_count": 24,
     "metadata": {},
     "output_type": "execute_result"
    }
   ],
   "source": [
    "happy_data = df[df.avg_income < 5000].sort_values(by=['happyScore'], ascending=False).reset_index(drop=True)\n",
    "happy_data.head(10)"
   ]
  },
  {
   "cell_type": "code",
   "execution_count": 53,
   "metadata": {},
   "outputs": [
    {
     "data": {
      "text/plain": [
       "[4148.0, 7.187]"
      ]
     },
     "execution_count": 53,
     "metadata": {},
     "output_type": "execute_result"
    }
   ],
   "source": [
    "lll = list(df[df.country == 'Mexico'][['avg_income', 'happyScore']].values[0])\n",
    "lll"
   ]
  },
  {
   "cell_type": "code",
   "execution_count": 55,
   "metadata": {},
   "outputs": [
    {
     "data": {
      "text/plain": [
       "[4150.0, 9.187000000000001]"
      ]
     },
     "execution_count": 55,
     "metadata": {},
     "output_type": "execute_result"
    }
   ],
   "source": [
    "[l +2 for l in lll]"
   ]
  },
  {
   "cell_type": "code",
   "execution_count": 80,
   "metadata": {},
   "outputs": [
    {
     "data": {
      "image/png": "[encoded data removed]",
      "text/plain": [
       "<Figure size 432x288 with 1 Axes>"
      ]
     },
     "metadata": {
      "needs_background": "light"
     },
     "output_type": "display_data"
    }
   ],
   "source": [
    "x = \"avg_income\"\n",
    "y = \"happyScore\"\n",
    "country = 'Mexico'\n",
    "\n",
    "ax = sns.scatterplot(x=x, y=y, data=df)\n",
    "ax.set_xlabel(x.replace('_', ' ').title())\n",
    "ax.set_ylabel(re.sub('([A-Z]{1})', r' \\1', y).title())\n",
    "ax.set_title('Happiness Score by Average Income')\n",
    "\n",
    "xys = list(df[df.country == country][[x, y]].values[0])\n",
    "# we can use ax.text or ax.annotate\n",
    "ax.annotate(country, \n",
    "            xy=xys, \n",
    "            xytext=[xys[0]-8000, xys[1]+1],\n",
    "            arrowprops=dict(facecolor='red', shrink=0.05),\n",
    "            )\n",
    "plt.show();"
   ]
  },
  {
   "cell_type": "code",
   "execution_count": null,
   "metadata": {},
   "outputs": [],
   "source": []
  }
 ],
 "metadata": {
  "kernelspec": {
   "display_name": "Python [conda env:cqf-fp]",
   "language": "python",
   "name": "conda-env-cqf-fp-py"
  },
  "language_info": {
   "codemirror_mode": {
    "name": "ipython",
    "version": 3
   },
   "file_extension": ".py",
   "mimetype": "text/x-python",
   "name": "python",
   "nbconvert_exporter": "python",
   "pygments_lexer": "ipython3",
   "version": "3.6.9"
  }
 },
 "nbformat": 4,
 "nbformat_minor": 2
}
